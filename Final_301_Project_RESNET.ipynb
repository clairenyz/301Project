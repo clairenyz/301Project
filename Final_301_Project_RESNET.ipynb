{
  "nbformat": 4,
  "nbformat_minor": 0,
  "metadata": {
    "colab": {
      "provenance": []
    },
    "kernelspec": {
      "name": "python3",
      "display_name": "Python 3"
    },
    "language_info": {
      "name": "python"
    },
    "accelerator": "GPU",
    "gpuClass": "standard"
  },
  "cells": [
    {
      "cell_type": "markdown",
      "source": [
        "references：\n",
        "https://openaccess.thecvf.com/content_ECCV_2018/papers/Sanghyun_Woo_Convolutional_Block_Attention_ECCV_2018_paper.pdf\n",
        "https://colab.research.google.com/drive/1U2cbuk9JHyuctTKAHQ1fJqRliCayhDBp#scrollTo=Q-hZ1yQCzr5d\n",
        "https://machinelearningmastery.com/use-pre-trained-vgg-model-classify-objects-photographs/(VGG)\n",
        "\n",
        "https://androidkt.com/how-to-use-vgg-model-in-tensorflow-keras/\n",
        "\n",
        "https://www.kaggle.com/code/hafizurrahman/flower-classification-resnet50-transfer-learning/notebook\n"
      ],
      "metadata": {
        "id": "guT4ESjeQzhO"
      }
    },
    {
      "cell_type": "code",
      "source": [
        "from google.colab import drive\n",
        "drive.mount('/content/drive')"
      ],
      "metadata": {
        "colab": {
          "base_uri": "https://localhost:8080/"
        },
        "id": "5VzQQGre1r8E",
        "outputId": "81091395-2e9f-4176-d692-a5e94f21ca54"
      },
      "execution_count": 1,
      "outputs": [
        {
          "output_type": "stream",
          "name": "stdout",
          "text": [
            "Mounted at /content/drive\n"
          ]
        }
      ]
    },
    {
      "cell_type": "code",
      "source": [
        "import numpy as np # linear algebra\n",
        "import pandas as pd # data processing, CSV file I/O (e.g. pd.read_csv)\n",
        "import os\n",
        "import shutil\n",
        "import matplotlib.pyplot as plt\n",
        "%matplotlib inline \n",
        "\n",
        "from IPython.display import Image, display\n",
        "from sklearn.model_selection import train_test_split\n",
        "from keras.applications import ResNet50\n",
        "from tensorflow.python.keras.models import Sequential\n",
        "from tensorflow.python.keras.layers import Dense, Flatten, GlobalAveragePooling2D, Dropout\n",
        "#from keras.preprocessing import image\n",
        "from keras.applications.resnet import preprocess_input\n",
        "from keras.preprocessing.image import ImageDataGenerator\n",
        "\n",
        "# Input data files are available in the \"../input/\" directory.\n",
        "# For example, running this (by clicking run or pressing Shift+Enter) will list the files in the input directory\n",
        "\n",
        "import os\n",
        "print(os.listdir(\"/content/drive/My Drive/flower\"))"
      ],
      "metadata": {
        "colab": {
          "base_uri": "https://localhost:8080/"
        },
        "id": "l-6hmYEGOOPM",
        "outputId": "8be6548e-a0d0-4db7-80ce-557114cb520d"
      },
      "execution_count": 2,
      "outputs": [
        {
          "output_type": "stream",
          "name": "stdout",
          "text": [
            "['sample_submission.csv', 'README.md', 'cat_to_name.json', 'dataset']\n"
          ]
        }
      ]
    },
    {
      "cell_type": "code",
      "source": [
        "labels = [\"pink primrose\", \"hard-leaved pocket orchid\", \"canterbury bells\",\n",
        "    \"sweet pea\", \"english marigold\", \"tiger lily\", \"moon orchid\",\n",
        "    \"bird of paradise\", \"monkshood\", \"globe thistle\", \"snapdragon\",\n",
        "    \"colt's foot\", \"king protea\", \"spear thistle\", \"yellow iris\",\n",
        "    \"globe-flower\", \"purple coneflower\", \"peruvian lily\", \"balloon flower\",\n",
        "    \"giant white arum lily\", \"fire lily\", \"pincushion flower\", \"fritillary\",\n",
        "    \"red ginger\", \"grape hyacinth\", \"corn poppy\", \"prince of wales feathers\",\n",
        "    \"stemless gentian\", \"artichoke\", \"sweet william\", \"carnation\",\n",
        "    \"garden phlox\", \"love in the mist\", \"mexican aster\", \"alpine sea holly\",\n",
        "    \"ruby-lipped cattleya\", \"cape flower\", \"great masterwort\", \"siam tulip\",\n",
        "    \"lenten rose\", \"barbeton daisy\", \"daffodil\", \"sword lily\", \"poinsettia\",\n",
        "    \"bolero deep blue\", \"wallflower\", \"marigold\", \"buttercup\", \"oxeye daisy\",\n",
        "    \"common dandelion\", \"petunia\", \"wild pansy\", \"primula\", \"sunflower\",\n",
        "    \"pelargonium\", \"bishop of llandaff\", \"gaura\", \"geranium\", \"orange dahlia\",\n",
        "    \"pink-yellow dahlia?\", \"cautleya spicata\", \"japanese anemone\",\n",
        "    \"black-eyed susan\", \"silverbush\", \"californian poppy\", \"osteospermum\",\n",
        "    \"spring crocus\", \"bearded iris\", \"windflower\", \"tree poppy\", \"gazania\",\n",
        "    \"azalea\", \"water lily\", \"rose\", \"thorn apple\", \"morning glory\",\n",
        "    \"passion flower\", \"lotus\", \"toad lily\", \"anthurium\", \"frangipani\",\n",
        "    \"clematis\", \"hibiscus\", \"columbine\", \"desert-rose\", \"tree mallow\",\n",
        "    \"magnolia\", \"cyclamen\", \"watercress\", \"canna lily\", \"hippeastrum\",\n",
        "    \"bee balm\", \"ball moss\", \"foxglove\", \"bougainvillea\", \"camellia\", \"mallow\",\n",
        "    \"mexican petunia\", \"bromelia\", \"blanket flower\", \"trumpet creeper\",\n",
        "    \"blackberry lily\"]"
      ],
      "metadata": {
        "id": "awbhL_EtPBm9"
      },
      "execution_count": 3,
      "outputs": []
    },
    {
      "cell_type": "code",
      "source": [
        "import tensorflow as tf"
      ],
      "metadata": {
        "id": "i5zPlBUxRTDv"
      },
      "execution_count": 4,
      "outputs": []
    },
    {
      "cell_type": "code",
      "source": [
        "num_classes = len(set(labels))\n",
        "resnet_weights_path = 'resnet50_weights_tf_dim_ordering_tf_kernels_notop.h5'\n",
        "\n",
        "# Create model\n",
        "model = Sequential()\n",
        "model.add(ResNet50(include_top=False, pooling='avg', weights='imagenet'))\n",
        "model.add(Dense(256, activation='relu'))\n",
        "model.add(Dropout(0.5))\n",
        "model.add(Dense(num_classes, activation='softmax'))\n",
        "\n",
        "# Do not train first layer (ResNet) as it is already pre-trained\n",
        "model.layers[0].trainable = False\n",
        "\n",
        "# Compile model\n",
        "from tensorflow.python.keras import optimizers\n",
        "\n",
        "sgd = tf.keras.optimizers.SGD(lr = 0.01, decay = 1e-6, momentum = 0.9, nesterov = True)\n",
        "model.compile(optimizer='adam', loss='categorical_crossentropy', metrics=['accuracy'])"
      ],
      "metadata": {
        "colab": {
          "base_uri": "https://localhost:8080/"
        },
        "id": "yapyTfHNPNIE",
        "outputId": "1d452f23-19a2-42e6-ab31-f09f9c9f2ddb"
      },
      "execution_count": 5,
      "outputs": [
        {
          "output_type": "stream",
          "name": "stdout",
          "text": [
            "Downloading data from https://storage.googleapis.com/tensorflow/keras-applications/resnet/resnet50_weights_tf_dim_ordering_tf_kernels_notop.h5\n",
            "94765736/94765736 [==============================] - 5s 0us/step\n"
          ]
        },
        {
          "output_type": "stream",
          "name": "stderr",
          "text": [
            "/usr/local/lib/python3.8/dist-packages/keras/optimizers/optimizer_v2/gradient_descent.py:108: UserWarning: The `lr` argument is deprecated, use `learning_rate` instead.\n",
            "  super(SGD, self).__init__(name, **kwargs)\n"
          ]
        }
      ]
    },
    {
      "cell_type": "code",
      "source": [
        "train_folder = '/content/drive/My Drive/flower/dataset/train'\n",
        "\n",
        "image_size = 224\n",
        "data_generator = ImageDataGenerator(preprocessing_function=preprocess_input,\n",
        "                                    horizontal_flip=True,\n",
        "                                    width_shift_range=0.2,\n",
        "                                    height_shift_range=0.2,\n",
        "                                    validation_split=0.2)\n",
        "\n",
        "train_generator = data_generator.flow_from_directory(\n",
        "    train_folder,\n",
        "    target_size=(image_size, image_size),\n",
        "    batch_size=24,\n",
        "    class_mode='categorical',\n",
        "    subset='training'\n",
        "    )\n",
        "validation_generator = data_generator.flow_from_directory(\n",
        "    train_folder,\n",
        "    target_size=(image_size, image_size),\n",
        "    batch_size=24,\n",
        "    class_mode='categorical',\n",
        "    subset='validation'\n",
        "    )"
      ],
      "metadata": {
        "colab": {
          "base_uri": "https://localhost:8080/"
        },
        "id": "dvAUQG55RaFB",
        "outputId": "c0bbb96f-4cca-4fec-b6c2-f88bbdd9d73b"
      },
      "execution_count": 6,
      "outputs": [
        {
          "output_type": "stream",
          "name": "stdout",
          "text": [
            "Found 5283 images belonging to 102 classes.\n",
            "Found 1269 images belonging to 102 classes.\n"
          ]
        }
      ]
    },
    {
      "cell_type": "code",
      "source": [
        "NUM_EPOCHS = 20\n",
        "EARLY_STOP_PATIENCE = 5"
      ],
      "metadata": {
        "id": "i5Mhy8xuSFvG"
      },
      "execution_count": 7,
      "outputs": []
    },
    {
      "cell_type": "code",
      "source": [
        "from tensorflow.python.keras.callbacks import EarlyStopping, ModelCheckpoint\n",
        "\n",
        "cb_early_stopper = EarlyStopping(monitor = 'val_loss', patience = EARLY_STOP_PATIENCE)\n",
        "cb_checkpointer = ModelCheckpoint(filepath = '../working/best.hdf5',\n",
        "                                  monitor = 'val_loss',\n",
        "                                  save_best_only = True,\n",
        "                                  mode = 'auto')"
      ],
      "metadata": {
        "id": "cHPygygoSIDA"
      },
      "execution_count": 8,
      "outputs": []
    },
    {
      "cell_type": "code",
      "source": [
        "import math\n",
        "\n",
        "fit_history = model.fit_generator(\n",
        "    train_generator,\n",
        "    steps_per_epoch=10,\n",
        "    validation_data=validation_generator,\n",
        "    validation_steps=10,\n",
        "    epochs=NUM_EPOCHS\n",
        "    #callbacks=[cb_checkpointer, cb_early_stopper]\n",
        ")"
      ],
      "metadata": {
        "colab": {
          "base_uri": "https://localhost:8080/"
        },
        "outputId": "045ba539-b415-4c6f-adca-7601632dda83",
        "id": "Ac7VAt36C7c0"
      },
      "execution_count": null,
      "outputs": [
        {
          "output_type": "stream",
          "name": "stderr",
          "text": [
            "/usr/local/lib/python3.8/dist-packages/tensorflow/python/keras/engine/training.py:1963: UserWarning: `Model.fit_generator` is deprecated and will be removed in a future version. Please use `Model.fit`, which supports generators.\n",
            "  warnings.warn('`Model.fit_generator` is deprecated and '\n"
          ]
        },
        {
          "output_type": "stream",
          "name": "stdout",
          "text": [
            "Epoch 1/20\n",
            "10/10 [==============================] - 221s 24s/step - loss: 4.9769 - accuracy: 0.0167 - val_loss: 4.5567 - val_accuracy: 0.0542\n",
            "Epoch 2/20\n",
            "10/10 [==============================] - 217s 24s/step - loss: 4.5906 - accuracy: 0.0458 - val_loss: 4.4040 - val_accuracy: 0.0333\n",
            "Epoch 3/20\n",
            "10/10 [==============================] - 214s 24s/step - loss: 4.4107 - accuracy: 0.0625 - val_loss: 4.2752 - val_accuracy: 0.0458\n",
            "Epoch 4/20\n",
            "10/10 [==============================] - 217s 24s/step - loss: 4.2883 - accuracy: 0.0792 - val_loss: 4.0716 - val_accuracy: 0.1375\n",
            "Epoch 5/20\n",
            "10/10 [==============================] - 196s 22s/step - loss: 4.1796 - accuracy: 0.1292 - val_loss: 3.9609 - val_accuracy: 0.1435\n",
            "Epoch 6/20\n",
            "10/10 [==============================] - 103s 11s/step - loss: 3.8878 - accuracy: 0.1500 - val_loss: 3.7343 - val_accuracy: 0.2083\n",
            "Epoch 7/20\n",
            "10/10 [==============================] - 106s 11s/step - loss: 3.9434 - accuracy: 0.1542 - val_loss: 3.6789 - val_accuracy: 0.1708\n",
            "Epoch 8/20\n",
            "10/10 [==============================] - 106s 11s/step - loss: 3.7766 - accuracy: 0.1958 - val_loss: 3.5271 - val_accuracy: 0.2292\n",
            "Epoch 9/20\n",
            "10/10 [==============================] - 107s 11s/step - loss: 3.5800 - accuracy: 0.2167 - val_loss: 3.2869 - val_accuracy: 0.2708\n",
            "Epoch 10/20\n",
            "10/10 [==============================] - 104s 11s/step - loss: 3.5442 - accuracy: 0.2375 - val_loss: 3.1244 - val_accuracy: 0.3291\n",
            "Epoch 11/20\n",
            "10/10 [==============================] - 109s 11s/step - loss: 3.5658 - accuracy: 0.2083 - val_loss: 3.0815 - val_accuracy: 0.3125\n",
            "Epoch 12/20\n",
            "10/10 [==============================] - 108s 11s/step - loss: 3.5253 - accuracy: 0.2125 - val_loss: 2.9140 - val_accuracy: 0.3500\n",
            "Epoch 13/20\n",
            "10/10 [==============================] - 108s 11s/step - loss: 3.2732 - accuracy: 0.2458 - val_loss: 2.7511 - val_accuracy: 0.3875\n",
            "Epoch 14/20\n",
            "10/10 [==============================] - 108s 11s/step - loss: 3.1753 - accuracy: 0.2917 - val_loss: 2.5651 - val_accuracy: 0.4125\n",
            "Epoch 15/20\n",
            "10/10 [==============================] - 106s 11s/step - loss: 3.2351 - accuracy: 0.2750 - val_loss: 2.4375 - val_accuracy: 0.4599\n",
            "Epoch 16/20\n",
            "10/10 [==============================] - 107s 11s/step - loss: 2.9517 - accuracy: 0.3208 - val_loss: 2.4436 - val_accuracy: 0.4583\n",
            "Epoch 17/20\n",
            "10/10 [==============================] - 107s 11s/step - loss: 2.9995 - accuracy: 0.2875 - val_loss: 2.2090 - val_accuracy: 0.4750\n",
            "Epoch 18/20\n",
            "10/10 [==============================] - 107s 11s/step - loss: 2.7502 - accuracy: 0.3583 - val_loss: 2.1384 - val_accuracy: 0.5542\n",
            "Epoch 19/20\n",
            "10/10 [==============================] - 108s 11s/step - loss: 2.7180 - accuracy: 0.3625 - val_loss: 1.9962 - val_accuracy: 0.5292\n",
            "Epoch 20/20\n",
            "10/10 [==============================] - 108s 11s/step - loss: 2.7652 - accuracy: 0.3000 - val_loss: 2.1499 - val_accuracy: 0.4641\n"
          ]
        }
      ]
    },
    {
      "cell_type": "code",
      "source": [
        "plt.figure(1, figsize = (15,8)) \n",
        "    \n",
        "plt.subplot(221)  \n",
        "plt.plot(fit_history.history['accuracy'])  \n",
        "plt.plot(fit_history.history['val_accuracy'])  \n",
        "plt.title('model accuracy')  \n",
        "plt.ylabel('accuracy')  \n",
        "plt.xlabel('epoch')  \n",
        "plt.legend(['train', 'valid']) \n",
        "    \n",
        "plt.subplot(222)  \n",
        "plt.plot(fit_history.history['loss'])  \n",
        "plt.plot(fit_history.history['val_loss'])  \n",
        "plt.title('model loss')  \n",
        "plt.ylabel('loss')  \n",
        "plt.xlabel('epoch')  \n",
        "plt.legend(['train', 'valid']) \n",
        "\n",
        "plt.show()"
      ],
      "metadata": {
        "colab": {
          "base_uri": "https://localhost:8080/",
          "height": 276
        },
        "outputId": "a7869093-b6b5-4fe9-b766-61d85d63c496",
        "id": "eAd37mjoC-um"
      },
      "execution_count": null,
      "outputs": [
        {
          "output_type": "display_data",
          "data": {
            "text/plain": [
              "<Figure size 1080x576 with 2 Axes>"
            ],
            "image/png": "[encoded data removed]"
          },
          "metadata": {
            "needs_background": "light"
          }
        }
      ]
    },
    {
      "cell_type": "code",
      "source": [
        "from tensorflow.keras.preprocessing.image import ImageDataGenerator\n",
        "from tensorflow.keras.layers import AveragePooling2D\n",
        "from tensorflow.keras.layers import Dropout\n",
        "from tensorflow.keras.layers import Flatten\n",
        "from tensorflow.keras.layers import Dense\n",
        "from tensorflow.keras.layers import Input\n",
        "from tensorflow.keras.models import Model\n",
        "from tensorflow.keras.optimizers import Adam\n",
        "from tensorflow.keras.applications import ResNet50\n",
        "from sklearn.metrics import classification_report\n",
        "from imutils import paths\n",
        "from keras import regularizers"
      ],
      "metadata": {
        "id": "n3_wTRuo83zC"
      },
      "execution_count": 21,
      "outputs": []
    },
    {
      "cell_type": "markdown",
      "source": [
        "# Fine Tuning"
      ],
      "metadata": {
        "id": "2Ikg5k-xztvN"
      }
    },
    {
      "cell_type": "code",
      "source": [
        "model.summary()"
      ],
      "metadata": {
        "colab": {
          "base_uri": "https://localhost:8080/"
        },
        "id": "5ipB2hJfEbhy",
        "outputId": "7460c903-6fd9-4e17-adb6-4a75c0757151"
      },
      "execution_count": 19,
      "outputs": [
        {
          "output_type": "stream",
          "name": "stdout",
          "text": [
            "Model: \"sequential\"\n",
            "_________________________________________________________________\n",
            "Layer (type)                 Output Shape              Param #   \n",
            "=================================================================\n",
            "module_wrapper (ModuleWrappe (None, 2048)              23587712  \n",
            "_________________________________________________________________\n",
            "dense (Dense)                (None, 256)               524544    \n",
            "_________________________________________________________________\n",
            "dropout (Dropout)            (None, 256)               0         \n",
            "_________________________________________________________________\n",
            "dense_1 (Dense)              (None, 102)               26214     \n",
            "=================================================================\n",
            "Total params: 24,138,470\n",
            "Trainable params: 550,758\n",
            "Non-trainable params: 23,587,712\n",
            "_________________________________________________________________\n"
          ]
        }
      ]
    },
    {
      "cell_type": "code",
      "source": [
        "baseModel = ResNet50(weights=\"imagenet\", include_top=False,\n",
        "\tinput_tensor=Input(shape=(224, 224, 3)))\n",
        "headModel = baseModel.output\n",
        "headModel = AveragePooling2D(pool_size=(7, 7))(headModel)\n",
        "headModel = Flatten(name=\"flatten\")(headModel)\n",
        "headModel = Dense(256, activation=\"relu\")(headModel)\n",
        "headModel = Dropout(0.5)(headModel)\n",
        "headModel = Dense(102, activation=\"softmax\")(headModel)\n",
        "model = Model(inputs=baseModel.input, outputs=headModel)\n",
        "model.compile(optimizer='adam', loss='categorical_crossentropy', metrics=['accuracy'])\n",
        "fit_history = model.fit_generator(\n",
        "    train_generator,\n",
        "    steps_per_epoch=10,\n",
        "    validation_data=validation_generator,\n",
        "    validation_steps=10,\n",
        "    epochs=NUM_EPOCHS\n",
        "    #callbacks=[cb_checkpointer, cb_early_stopper]\n",
        ")"
      ],
      "metadata": {
        "colab": {
          "base_uri": "https://localhost:8080/"
        },
        "id": "YAMH7hjvzuk9",
        "outputId": "88d06b78-e2f5-4ffb-c670-c0a629121b03"
      },
      "execution_count": 25,
      "outputs": [
        {
          "output_type": "stream",
          "name": "stderr",
          "text": [
            "<ipython-input-25-9f72d7933781>:11: UserWarning: `Model.fit_generator` is deprecated and will be removed in a future version. Please use `Model.fit`, which supports generators.\n",
            "  fit_history = model.fit_generator(\n"
          ]
        },
        {
          "output_type": "stream",
          "name": "stdout",
          "text": [
            "Epoch 1/20\n",
            "10/10 [==============================] - 151s 16s/step - loss: 4.7596 - accuracy: 0.0625 - val_loss: 10.0948 - val_accuracy: 0.0458\n",
            "Epoch 2/20\n",
            "10/10 [==============================] - 114s 12s/step - loss: 4.5662 - accuracy: 0.1083 - val_loss: 450.5762 - val_accuracy: 0.0042\n",
            "Epoch 3/20\n",
            "10/10 [==============================] - 112s 11s/step - loss: 4.4441 - accuracy: 0.1042 - val_loss: 3539.7966 - val_accuracy: 0.0125\n",
            "Epoch 4/20\n",
            "10/10 [==============================] - 102s 10s/step - loss: 4.3006 - accuracy: 0.1167 - val_loss: 337.1580 - val_accuracy: 0.0417\n",
            "Epoch 5/20\n",
            "10/10 [==============================] - 110s 11s/step - loss: 4.3480 - accuracy: 0.1083 - val_loss: 677.1861 - val_accuracy: 0.0208\n",
            "Epoch 6/20\n",
            "10/10 [==============================] - 96s 9s/step - loss: 4.3035 - accuracy: 0.0958 - val_loss: 1062.7035 - val_accuracy: 0.0458\n",
            "Epoch 7/20\n",
            "10/10 [==============================] - 101s 10s/step - loss: 4.2447 - accuracy: 0.1042 - val_loss: 663.0712 - val_accuracy: 0.0375\n",
            "Epoch 8/20\n",
            "10/10 [==============================] - 79s 8s/step - loss: 4.1903 - accuracy: 0.1083 - val_loss: 256.3297 - val_accuracy: 0.0167\n",
            "Epoch 9/20\n",
            "10/10 [==============================] - 73s 7s/step - loss: 4.0644 - accuracy: 0.1375 - val_loss: 62.2358 - val_accuracy: 0.0125\n",
            "Epoch 10/20\n",
            "10/10 [==============================] - 85s 9s/step - loss: 4.1611 - accuracy: 0.0958 - val_loss: 99.3906 - val_accuracy: 0.0083\n",
            "Epoch 11/20\n",
            "10/10 [==============================] - 76s 8s/step - loss: 4.1207 - accuracy: 0.0708 - val_loss: 52.6330 - val_accuracy: 0.0083\n",
            "Epoch 12/20\n",
            "10/10 [==============================] - 67s 7s/step - loss: 4.2539 - accuracy: 0.0708 - val_loss: 18.3110 - val_accuracy: 0.0083\n",
            "Epoch 13/20\n",
            "10/10 [==============================] - 72s 7s/step - loss: 4.0114 - accuracy: 0.1042 - val_loss: 52.3722 - val_accuracy: 0.0583\n",
            "Epoch 14/20\n",
            "10/10 [==============================] - 72s 7s/step - loss: 3.9248 - accuracy: 0.1583 - val_loss: 13.0082 - val_accuracy: 0.0417\n",
            "Epoch 15/20\n",
            "10/10 [==============================] - 62s 7s/step - loss: 3.9512 - accuracy: 0.1208 - val_loss: 9.8671 - val_accuracy: 0.0083\n",
            "Epoch 16/20\n",
            "10/10 [==============================] - 52s 5s/step - loss: 3.9966 - accuracy: 0.1625 - val_loss: 11.8098 - val_accuracy: 0.0125\n",
            "Epoch 17/20\n",
            "10/10 [==============================] - 56s 6s/step - loss: 3.9651 - accuracy: 0.1042 - val_loss: 93.8994 - val_accuracy: 0.0042\n",
            "Epoch 18/20\n",
            "10/10 [==============================] - 54s 6s/step - loss: 4.0153 - accuracy: 0.1375 - val_loss: 22.3896 - val_accuracy: 0.0375\n",
            "Epoch 19/20\n",
            "10/10 [==============================] - 51s 5s/step - loss: 3.8027 - accuracy: 0.1542 - val_loss: 8.6221 - val_accuracy: 0.0458\n",
            "Epoch 20/20\n",
            "10/10 [==============================] - 45s 4s/step - loss: 3.8251 - accuracy: 0.1542 - val_loss: 7.5403 - val_accuracy: 0.0542\n"
          ]
        }
      ]
    },
    {
      "cell_type": "code",
      "source": [
        "plt.figure(1, figsize = (15,8)) \n",
        "    \n",
        "plt.subplot(221)  \n",
        "plt.plot(fit_history.history['accuracy'])  \n",
        "plt.plot(fit_history.history['val_accuracy'])  \n",
        "plt.title('model accuracy')  \n",
        "plt.ylabel('accuracy')  \n",
        "plt.xlabel('epoch')  \n",
        "plt.legend(['train', 'valid']) \n",
        "    \n",
        "plt.subplot(222)  \n",
        "plt.plot(fit_history.history['loss'])  \n",
        "plt.plot(fit_history.history['val_loss'])  \n",
        "plt.title('model loss')  \n",
        "plt.ylabel('loss')  \n",
        "plt.xlabel('epoch')  \n",
        "plt.legend(['train', 'valid']) \n",
        "\n",
        "plt.show()"
      ],
      "metadata": {
        "colab": {
          "base_uri": "https://localhost:8080/",
          "height": 276
        },
        "id": "et6QPjaSz9Km",
        "outputId": "2eee31a1-ae19-440a-eeaf-33eac564622a"
      },
      "execution_count": 26,
      "outputs": [
        {
          "output_type": "display_data",
          "data": {
            "text/plain": [
              "<Figure size 1080x576 with 2 Axes>"
            ],
            "image/png": "[encoded data removed]"
          },
          "metadata": {
            "needs_background": "light"
          }
        }
      ]
    }
  ]
}